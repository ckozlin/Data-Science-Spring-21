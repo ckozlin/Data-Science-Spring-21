{
 "cells": [
  {
   "cell_type": "code",
   "execution_count": 1,
   "metadata": {},
   "outputs": [],
   "source": [
    "using CSVFiles, CSV, DataFrames, ScikitLearn, PyCall"
   ]
  },
  {
   "cell_type": "code",
   "execution_count": 2,
   "metadata": {
    "scrolled": true
   },
   "outputs": [
    {
     "name": "stderr",
     "output_type": "stream",
     "text": [
      "┌ Warning: Module model_selection has been ported to Julia - try `import ScikitLearn: CrossValidation` instead\n",
      "└ @ ScikitLearn.Skcore C:\\Users\\Cameron Kozlin\\.julia\\packages\\ScikitLearn\\NJwUf\\src\\Skcore.jl:179\n",
      "┌ Warning: Module model_selection has been ported to Julia - try `import ScikitLearn: CrossValidation` instead\n",
      "└ @ ScikitLearn.Skcore C:\\Users\\Cameron Kozlin\\.julia\\packages\\ScikitLearn\\NJwUf\\src\\Skcore.jl:179\n"
     ]
    }
   ],
   "source": [
    "# This cell imports all necessary items from scikit-learn\n",
    "@sk_import model_selection: train_test_split\n",
    "@sk_import preprocessing: OneHotEncoder\n",
    "@sk_import model_selection: GridSearchCV\n",
    "@sk_import svm: LinearSVC\n",
    "@sk_import metrics: accuracy_score\n",
    "@sk_import naive_bayes: CategoricalNB\n",
    "@sk_import naive_bayes: GaussianNB\n",
    "@sk_import tree: DecisionTreeClassifier\n",
    "@sk_import svm: SVC\n",
    "@sk_import neural_network: MLPClassifier\n",
    "@sk_import preprocessing: LabelEncoder\n",
    "joblib = pyimport(\"joblib\");"
   ]
  },
  {
   "cell_type": "code",
   "execution_count": 3,
   "metadata": {},
   "outputs": [
    {
     "data": {
      "text/plain": [
       "train_predict_accuracy (generic function with 1 method)"
      ]
     },
     "execution_count": 3,
     "metadata": {},
     "output_type": "execute_result"
    }
   ],
   "source": [
    "# This function is called 16 times throughout the program; it is used every time that a model needs to be trained\n",
    "# and used for predictions. It outputs the time it took to train (fit), the time it takes to predict, the model object used,\n",
    "# and the accuracy of the model when applied to test data. It also outputs the size in bytes.\n",
    "\n",
    "function train_predict_accuracy(model, X_train, y_train, X_test, y_test)\n",
    "    print(\"Fit time: \")\n",
    "    @time fit!(model, X_train, y_train)\n",
    "    print(\"Prediction time: \")\n",
    "    @time pred = predict(model, X_test)\n",
    "    println(\"Model: $model\")\n",
    "    accuracy = accuracy_score(pred, y_test)\n",
    "    # Convert accuracy to percentage, round to 1 decimal\n",
    "    accuracy = accuracy * 100\n",
    "    accuracy = round(accuracy, digits=1)\n",
    "    println(\"Accuracy: $accuracy%\")\n",
    "    joblib.dump(model, \"model_file\")\n",
    "    n = filesize(\"model_file\")\n",
    "    # Convert file size to Kb, round to 2 decimals\n",
    "    n = n / 1000\n",
    "    n = round(n, digits=2)\n",
    "    println(\"Size: $n Kb\")\n",
    "end"
   ]
  },
  {
   "cell_type": "code",
   "execution_count": 4,
   "metadata": {},
   "outputs": [],
   "source": [
    "# Create objects for encoders and models\n",
    "\n",
    "enc = OneHotEncoder()\n",
    "le = LabelEncoder()\n",
    "NB_model = CategoricalNB()\n",
    "tree_model = DecisionTreeClassifier()\n",
    "SVM_model = SVC()\n",
    "net_model = MLPClassifier();"
   ]
  },
  {
   "cell_type": "code",
   "execution_count": 5,
   "metadata": {},
   "outputs": [],
   "source": [
    "# CAR CLASSIFICATION SECTION\n",
    "\n",
    "# read in car data as DF, encode X, split into input (X) and output (y)\n",
    "df = CSV.File(read(\"car.data\"); header=0) |> DataFrame;\n",
    "\n",
    "X = convert(Array, df[:,1:6])\n",
    "enc.fit(X)\n",
    "X = enc.transform(X).toarray()\n",
    "\n",
    "y = convert(Array, df[:,7]);"
   ]
  },
  {
   "cell_type": "code",
   "execution_count": 6,
   "metadata": {},
   "outputs": [],
   "source": [
    "X_train, X_test, y_train, y_test = train_test_split(X, y, test_size=0.3);"
   ]
  },
  {
   "cell_type": "code",
   "execution_count": 7,
   "metadata": {},
   "outputs": [
    {
     "name": "stdout",
     "output_type": "stream",
     "text": [
      "Fit time:   0.075241 seconds (33.10 k allocations: 1.713 MiB)\n",
      "Prediction time:   0.381166 seconds (225.56 k allocations: 11.506 MiB, 9.30% gc time)\n",
      "Model: PyObject CategoricalNB()\n",
      "Accuracy: 87.3%\n",
      "Size: 5.34 Kb\n"
     ]
    }
   ],
   "source": [
    "train_predict_accuracy(NB_model, X_train, y_train, X_test, y_test)"
   ]
  },
  {
   "cell_type": "code",
   "execution_count": 8,
   "metadata": {},
   "outputs": [
    {
     "name": "stdout",
     "output_type": "stream",
     "text": [
      "Fit time:   0.032569 seconds (1.23 k allocations: 19.734 KiB)\n",
      "Prediction time:   0.002740 seconds (3.16 k allocations: 98.812 KiB)\n",
      "Model: PyObject DecisionTreeClassifier()\n",
      "Accuracy: 96.9%\n",
      "Size: 17.18 Kb\n"
     ]
    }
   ],
   "source": [
    "train_predict_accuracy(tree_model, X_train, y_train, X_test, y_test)"
   ]
  },
  {
   "cell_type": "code",
   "execution_count": 9,
   "metadata": {},
   "outputs": [
    {
     "name": "stdout",
     "output_type": "stream",
     "text": [
      "Fit time:   0.153667 seconds (1.23 k allocations: 19.734 KiB)\n",
      "Prediction time:   0.088137 seconds (3.16 k allocations: 98.812 KiB)\n",
      "Model: PyObject SVC()\n",
      "Accuracy: 96.5%\n",
      "Size: 129.32 Kb\n"
     ]
    }
   ],
   "source": [
    "train_predict_accuracy(SVM_model, X_train, y_train, X_test, y_test)"
   ]
  },
  {
   "cell_type": "code",
   "execution_count": 10,
   "metadata": {},
   "outputs": [
    {
     "name": "stdout",
     "output_type": "stream",
     "text": [
      "Fit time:   3.282061 seconds (1.23 k allocations: 19.734 KiB)\n",
      "Prediction time:   0.007714 seconds (3.16 k allocations: 98.812 KiB)\n",
      "Model: PyObject MLPClassifier()\n",
      "Accuracy: 97.1%"
     ]
    },
    {
     "name": "stderr",
     "output_type": "stream",
     "text": [
      "C:\\Users\\Cameron Kozlin\\.julia\\conda\\3\\lib\\site-packages\\sklearn\\neural_network\\_multilayer_perceptron.py:614: ConvergenceWarning: Stochastic Optimizer: Maximum iterations (200) reached and the optimization hasn't converged yet.\r\n",
      "  warnings.warn(\r\n"
     ]
    },
    {
     "name": "stdout",
     "output_type": "stream",
     "text": [
      "\n",
      "Size: 92.1 Kb\n"
     ]
    }
   ],
   "source": [
    "train_predict_accuracy(net_model, X_train, y_train, X_test, y_test)"
   ]
  },
  {
   "cell_type": "code",
   "execution_count": 11,
   "metadata": {},
   "outputs": [],
   "source": [
    "# ABALONE CLASSIFICATION\n",
    "\n",
    "df = CSV.File(read(\"abalone.data\"); header=0) |> DataFrame\n",
    "\n",
    "X = convert(Array, df[:,1:8])\n",
    "\n",
    "X[:,1] = le.fit_transform(X[:,1])\n",
    "\n",
    "y = convert(Array, df[:,9])\n",
    "\n",
    "# Sort ring counts into 3 groups (1-8, 9-10, 11+)\n",
    "y[y.<=8] .= 1\n",
    "y[y.>10] .= 3\n",
    "y[y.>=9] .= 2\n",
    "\n",
    "X_train, X_test, y_train, y_test = train_test_split(X, y, test_size=0.3);"
   ]
  },
  {
   "cell_type": "code",
   "execution_count": 12,
   "metadata": {},
   "outputs": [],
   "source": [
    "# Switch to Gaussian NB model for the rest- \n",
    "# determined from testing as best tradeoff\n",
    "NB_model = GaussianNB();"
   ]
  },
  {
   "cell_type": "code",
   "execution_count": 13,
   "metadata": {},
   "outputs": [
    {
     "name": "stdout",
     "output_type": "stream",
     "text": [
      "Fit time:   0.185179 seconds (217.28 k allocations: 9.388 MiB)\n",
      "Prediction time:   0.056356 seconds (49.61 k allocations: 1.792 MiB)\n",
      "Model: PyObject GaussianNB()\n",
      "Accuracy: 57.3%\n",
      "Size: 1.1 Kb\n"
     ]
    }
   ],
   "source": [
    "train_predict_accuracy(NB_model, X_train, y_train, X_test, y_test)"
   ]
  },
  {
   "cell_type": "code",
   "execution_count": 14,
   "metadata": {},
   "outputs": [
    {
     "name": "stdout",
     "output_type": "stream",
     "text": [
      "Fit time:   0.096770 seconds (52.63 k allocations: 822.969 KiB)\n",
      "Prediction time:   0.018298 seconds (22.62 k allocations: 365.203 KiB)\n",
      "Model: PyObject DecisionTreeClassifier()\n",
      "Accuracy: 55.2%\n",
      "Size: 124.78 Kb\n"
     ]
    }
   ],
   "source": [
    "train_predict_accuracy(tree_model, X_train, y_train, X_test, y_test)"
   ]
  },
  {
   "cell_type": "code",
   "execution_count": 15,
   "metadata": {},
   "outputs": [
    {
     "name": "stdout",
     "output_type": "stream",
     "text": [
      "Fit time:   0.903276 seconds (52.63 k allocations: 822.969 KiB)\n",
      "Prediction time:   0.769985 seconds (22.62 k allocations: 365.203 KiB)\n",
      "Model: PyObject SVC()\n",
      "Accuracy: 63.3%\n",
      "Size: 220.49 Kb\n"
     ]
    }
   ],
   "source": [
    "train_predict_accuracy(SVM_model, X_train, y_train, X_test, y_test)"
   ]
  },
  {
   "cell_type": "code",
   "execution_count": 16,
   "metadata": {
    "scrolled": false
   },
   "outputs": [
    {
     "name": "stdout",
     "output_type": "stream",
     "text": [
      "Fit time:   6.993016 seconds (52.63 k allocations: 822.969 KiB)\n",
      "Prediction time:   0.026048 seconds (22.62 k allocations: 365.203 KiB)\n",
      "Model: PyObject MLPClassifier()\n",
      "Accuracy: 64.4%\n",
      "Size: 47.16 Kb\n"
     ]
    }
   ],
   "source": [
    "train_predict_accuracy(net_model, X_train, y_train, X_test, y_test)"
   ]
  },
  {
   "cell_type": "code",
   "execution_count": 17,
   "metadata": {},
   "outputs": [],
   "source": [
    "# MADELON CLASSIFICATION\n",
    "\n",
    "df = CSV.File(read(\"madelon_train.data\"); header=0) |> DataFrame\n",
    "\n",
    "df_y = CSV.File(read(\"madelon_train.labels\"); header=0) |> DataFrame\n",
    "\n",
    "# drop missing values read in by CSV\n",
    "select!(df, Not(:Column501))\n",
    "\n",
    "X = convert(Array, df)\n",
    "y = convert(Array, df_y);\n",
    "\n",
    "X_train, X_test, y_train, y_test = train_test_split(X, y, test_size=0.3);"
   ]
  },
  {
   "cell_type": "code",
   "execution_count": 18,
   "metadata": {},
   "outputs": [
    {
     "name": "stdout",
     "output_type": "stream",
     "text": [
      "Fit time:   0.087689 seconds (31.21 k allocations: 1.671 MiB)\n"
     ]
    },
    {
     "name": "stderr",
     "output_type": "stream",
     "text": [
      "C:\\Users\\Cameron Kozlin\\.julia\\conda\\3\\lib\\site-packages\\sklearn\\utils\\validation.py:63: DataConversionWarning: A column-vector y was passed when a 1d array was expected. Please change the shape of y to (n_samples, ), for example using ravel().\r\n",
      "  return f(*args, **kwargs)\r\n"
     ]
    },
    {
     "name": "stdout",
     "output_type": "stream",
     "text": [
      "Prediction time:   0.089870 seconds (25.03 k allocations: 1.347 MiB, 37.01% gc time)\n",
      "Model: PyObject GaussianNB()\n",
      "Accuracy: 59.2%\n",
      "Size: 16.7 Kb\n"
     ]
    }
   ],
   "source": [
    "train_predict_accuracy(NB_model, X_train, y_train, X_test, y_test)"
   ]
  },
  {
   "cell_type": "code",
   "execution_count": 19,
   "metadata": {},
   "outputs": [
    {
     "name": "stdout",
     "output_type": "stream",
     "text": [
      "Fit time:   0.840535 seconds (22 allocations: 1.125 KiB)\n",
      "Prediction time:   0.002744 seconds (55 allocations: 7.656 KiB)\n",
      "Model: PyObject DecisionTreeClassifier()\n",
      "Accuracy: 66.7%\n",
      "Size: 19.68 Kb\n"
     ]
    }
   ],
   "source": [
    "train_predict_accuracy(tree_model, X_train, y_train, X_test, y_test)"
   ]
  },
  {
   "cell_type": "code",
   "execution_count": 20,
   "metadata": {
    "scrolled": true
   },
   "outputs": [
    {
     "name": "stdout",
     "output_type": "stream",
     "text": [
      "Fit time:   1.145950 seconds (22 allocations: 1.125 KiB)\n",
      "Prediction time: "
     ]
    },
    {
     "name": "stderr",
     "output_type": "stream",
     "text": [
      "C:\\Users\\Cameron Kozlin\\.julia\\conda\\3\\lib\\site-packages\\sklearn\\utils\\validation.py:63: DataConversionWarning: A column-vector y was passed when a 1d array was expected. Please change the shape of y to (n_samples, ), for example using ravel().\r\n",
      "  return f(*args, **kwargs)\r\n"
     ]
    },
    {
     "name": "stdout",
     "output_type": "stream",
     "text": [
      "  0.878844 seconds (55 allocations: 7.656 KiB)\n",
      "Model: PyObject SVC()\n",
      "Accuracy: 62.8%\n",
      "Size: 5207.24 Kb\n"
     ]
    }
   ],
   "source": [
    "train_predict_accuracy(SVM_model, X_train, y_train, X_test, y_test)"
   ]
  },
  {
   "cell_type": "code",
   "execution_count": 21,
   "metadata": {},
   "outputs": [
    {
     "name": "stdout",
     "output_type": "stream",
     "text": [
      "Fit time:   1.208510 seconds (22 allocations: 1.125 KiB)\n",
      "Prediction time:   0.008020 seconds (55 allocations: 7.656 KiB)\n",
      "Model: PyObject MLPClassifier()\n",
      "Accuracy: 54.3%\n"
     ]
    },
    {
     "name": "stderr",
     "output_type": "stream",
     "text": [
      "C:\\Users\\Cameron Kozlin\\.julia\\conda\\3\\lib\\site-packages\\sklearn\\utils\\validation.py:63: DataConversionWarning: A column-vector y was passed when a 1d array was expected. Please change the shape of y to (n_samples, ), for example using ravel().\r\n",
      "  return f(*args, **kwargs)\r\n"
     ]
    },
    {
     "name": "stdout",
     "output_type": "stream",
     "text": [
      "Size: 1611.69 Kb\n"
     ]
    }
   ],
   "source": [
    "train_predict_accuracy(net_model, X_train, y_train, X_test, y_test)"
   ]
  },
  {
   "cell_type": "code",
   "execution_count": 22,
   "metadata": {},
   "outputs": [],
   "source": [
    "# KDD CUP CLASSIFICATION\n",
    "\n",
    "# Read in the data as a DF, then separate into X and y (y is the final column)\n",
    "\n",
    "df = CSV.File(read(\"kddcup.data_10_percent\"); header=0) |> DataFrame\n",
    "X = convert(Array, df[:, 1:41])\n",
    "y = convert(Array, df[:, 42]);"
   ]
  },
  {
   "cell_type": "code",
   "execution_count": 23,
   "metadata": {},
   "outputs": [],
   "source": [
    "# Label encode (le) columns 2-4 of the data\n",
    "# converting them from string to float64\n",
    "# so that they can be used with scikit-learn\n",
    "\n",
    "X[:,2] = le.fit_transform(X[:,2])\n",
    "X[:,3] = le.fit_transform(X[:,3])\n",
    "X[:,4] = le.fit_transform(X[:,4]);"
   ]
  },
  {
   "cell_type": "code",
   "execution_count": 24,
   "metadata": {},
   "outputs": [],
   "source": [
    "# Only training on 10% of the data here, because this saves lots of time w/o diminishing accuracy\n",
    "# This may take a while due to size of dataset\n",
    "X_train, X_test, y_train, y_test = train_test_split(X, y, test_size=0.9);"
   ]
  },
  {
   "cell_type": "code",
   "execution_count": 25,
   "metadata": {},
   "outputs": [
    {
     "name": "stdout",
     "output_type": "stream",
     "text": [
      "Fit time:   4.890046 seconds (4.23 M allocations: 65.521 MiB)\n",
      "Prediction time:  55.092222 seconds (40.02 M allocations: 642.737 MiB, 5.09% gc time)\n",
      "Model: PyObject GaussianNB()\n",
      "Accuracy: 96.7%\n",
      "Size: 14.62 Kb\n"
     ]
    }
   ],
   "source": [
    "train_predict_accuracy(NB_model, X_train, y_train, X_test, y_test)"
   ]
  },
  {
   "cell_type": "code",
   "execution_count": 26,
   "metadata": {},
   "outputs": [
    {
     "name": "stdout",
     "output_type": "stream",
     "text": [
      "Fit time:   3.987713 seconds (4.20 M allocations: 64.075 MiB)\n",
      "Prediction time:  46.764713 seconds (40.02 M allocations: 642.731 MiB, 7.77% gc time)\n",
      "Model: PyObject DecisionTreeClassifier()\n",
      "Accuracy: 99.9%\n",
      "Size: 41.7 Kb\n"
     ]
    }
   ],
   "source": [
    "train_predict_accuracy(tree_model, X_train, y_train, X_test, y_test)"
   ]
  },
  {
   "cell_type": "code",
   "execution_count": 27,
   "metadata": {},
   "outputs": [],
   "source": [
    "# Use Linear SVC for this model to optimize\n",
    "SVM_model = LinearSVC();"
   ]
  },
  {
   "cell_type": "code",
   "execution_count": 28,
   "metadata": {},
   "outputs": [
    {
     "name": "stdout",
     "output_type": "stream",
     "text": [
      "Fit time:  40.061641 seconds (4.20 M allocations: 64.075 MiB, 5.43% gc time)\n",
      "Prediction time: "
     ]
    },
    {
     "name": "stderr",
     "output_type": "stream",
     "text": [
      "C:\\Users\\Cameron Kozlin\\.julia\\conda\\3\\lib\\site-packages\\sklearn\\svm\\_base.py:985: ConvergenceWarning: Liblinear failed to converge, increase the number of iterations.\r\n",
      "  warnings.warn(\"Liblinear failed to converge, increase \"\r\n"
     ]
    },
    {
     "name": "stdout",
     "output_type": "stream",
     "text": [
      " 40.783382 seconds (40.02 M allocations: 642.730 MiB, 5.56% gc time)\n",
      "Model: PyObject LinearSVC()\n",
      "Accuracy: 97.5%\n",
      "Size: 8.32 Kb\n"
     ]
    }
   ],
   "source": [
    "train_predict_accuracy(SVM_model, X_train, y_train, X_test, y_test)"
   ]
  },
  {
   "cell_type": "code",
   "execution_count": 29,
   "metadata": {},
   "outputs": [
    {
     "name": "stdout",
     "output_type": "stream",
     "text": [
      "Fit time:  48.586223 seconds (4.20 M allocations: 64.075 MiB)\n",
      "Prediction time:  43.205004 seconds (40.02 M allocations: 642.730 MiB, 4.62% gc time)\n",
      "Model: PyObject MLPClassifier()\n",
      "Accuracy: 99.5%\n",
      "Size: 204.05 Kb\n"
     ]
    }
   ],
   "source": [
    "train_predict_accuracy(net_model, X_train, y_train, X_test, y_test)"
   ]
  }
 ],
 "metadata": {
  "kernelspec": {
   "display_name": "Julia 1.5.3",
   "language": "julia",
   "name": "julia-1.5"
  },
  "language_info": {
   "file_extension": ".jl",
   "mimetype": "application/julia",
   "name": "julia",
   "version": "1.5.3"
  }
 },
 "nbformat": 4,
 "nbformat_minor": 4
}
